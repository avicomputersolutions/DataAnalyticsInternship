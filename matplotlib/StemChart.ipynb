{
 "cells": [
  {
   "cell_type": "code",
   "execution_count": 1,
   "metadata": {},
   "outputs": [],
   "source": [
    "import pandas as pd\n"
   ]
  },
  {
   "cell_type": "code",
   "execution_count": 12,
   "metadata": {},
   "outputs": [],
   "source": [
    "Ecom = pd.read_excel(\"../Pandas/Ecommerce.xlsx\")"
   ]
  },
  {
   "cell_type": "code",
   "execution_count": 13,
   "metadata": {},
   "outputs": [
    {
     "data": {
      "text/html": [
       "<div>\n",
       "<style scoped>\n",
       "    .dataframe tbody tr th:only-of-type {\n",
       "        vertical-align: middle;\n",
       "    }\n",
       "\n",
       "    .dataframe tbody tr th {\n",
       "        vertical-align: top;\n",
       "    }\n",
       "\n",
       "    .dataframe thead th {\n",
       "        text-align: right;\n",
       "    }\n",
       "</style>\n",
       "<table border=\"1\" class=\"dataframe\">\n",
       "  <thead>\n",
       "    <tr style=\"text-align: right;\">\n",
       "      <th></th>\n",
       "      <th>User_ID</th>\n",
       "      <th>Product_ID</th>\n",
       "      <th>Category</th>\n",
       "      <th>Price (Rs.)</th>\n",
       "      <th>Discount (%)</th>\n",
       "      <th>Final_Price(Rs.)</th>\n",
       "      <th>Payment_Method</th>\n",
       "      <th>Purchase_Date</th>\n",
       "    </tr>\n",
       "  </thead>\n",
       "  <tbody>\n",
       "    <tr>\n",
       "      <th>0</th>\n",
       "      <td>337c166f</td>\n",
       "      <td>f414122f-e</td>\n",
       "      <td>Sports</td>\n",
       "      <td>36.53</td>\n",
       "      <td>15</td>\n",
       "      <td>31.05</td>\n",
       "      <td>Net Banking</td>\n",
       "      <td>12-11-2024</td>\n",
       "    </tr>\n",
       "    <tr>\n",
       "      <th>1</th>\n",
       "      <td>d38a19bf</td>\n",
       "      <td>fde50f9c-5</td>\n",
       "      <td>Clothing</td>\n",
       "      <td>232.79</td>\n",
       "      <td>20</td>\n",
       "      <td>186.23</td>\n",
       "      <td>Net Banking</td>\n",
       "      <td>09-02-2024</td>\n",
       "    </tr>\n",
       "    <tr>\n",
       "      <th>2</th>\n",
       "      <td>d7f5f0b0</td>\n",
       "      <td>0d96fc90-3</td>\n",
       "      <td>Sports</td>\n",
       "      <td>317.02</td>\n",
       "      <td>25</td>\n",
       "      <td>237.76</td>\n",
       "      <td>Credit Card</td>\n",
       "      <td>01-09-2024</td>\n",
       "    </tr>\n",
       "    <tr>\n",
       "      <th>3</th>\n",
       "      <td>395d4994</td>\n",
       "      <td>964fc44b-d</td>\n",
       "      <td>Toys</td>\n",
       "      <td>173.19</td>\n",
       "      <td>25</td>\n",
       "      <td>129.89</td>\n",
       "      <td>UPI</td>\n",
       "      <td>01-04-2024</td>\n",
       "    </tr>\n",
       "    <tr>\n",
       "      <th>4</th>\n",
       "      <td>a83c145c</td>\n",
       "      <td>d70e2fc6-e</td>\n",
       "      <td>Beauty</td>\n",
       "      <td>244.80</td>\n",
       "      <td>20</td>\n",
       "      <td>195.84</td>\n",
       "      <td>Net Banking</td>\n",
       "      <td>27-09-2024</td>\n",
       "    </tr>\n",
       "    <tr>\n",
       "      <th>...</th>\n",
       "      <td>...</td>\n",
       "      <td>...</td>\n",
       "      <td>...</td>\n",
       "      <td>...</td>\n",
       "      <td>...</td>\n",
       "      <td>...</td>\n",
       "      <td>...</td>\n",
       "      <td>...</td>\n",
       "    </tr>\n",
       "    <tr>\n",
       "      <th>3655</th>\n",
       "      <td>67abda0a</td>\n",
       "      <td>28714133-6</td>\n",
       "      <td>Beauty</td>\n",
       "      <td>486.79</td>\n",
       "      <td>0</td>\n",
       "      <td>486.79</td>\n",
       "      <td>UPI</td>\n",
       "      <td>14-05-2024</td>\n",
       "    </tr>\n",
       "    <tr>\n",
       "      <th>3656</th>\n",
       "      <td>34ebc1a0</td>\n",
       "      <td>08838c2c-9</td>\n",
       "      <td>Toys</td>\n",
       "      <td>212.87</td>\n",
       "      <td>15</td>\n",
       "      <td>180.94</td>\n",
       "      <td>Cash on Delivery</td>\n",
       "      <td>19-11-2024</td>\n",
       "    </tr>\n",
       "    <tr>\n",
       "      <th>3657</th>\n",
       "      <td>1defd3b1</td>\n",
       "      <td>c39a4f16-6</td>\n",
       "      <td>Home &amp; Kitchen</td>\n",
       "      <td>389.76</td>\n",
       "      <td>0</td>\n",
       "      <td>389.76</td>\n",
       "      <td>Net Banking</td>\n",
       "      <td>07-08-2024</td>\n",
       "    </tr>\n",
       "    <tr>\n",
       "      <th>3658</th>\n",
       "      <td>0611293d</td>\n",
       "      <td>b4f67f96-9</td>\n",
       "      <td>Electronics</td>\n",
       "      <td>447.66</td>\n",
       "      <td>30</td>\n",
       "      <td>313.36</td>\n",
       "      <td>UPI</td>\n",
       "      <td>21-05-2024</td>\n",
       "    </tr>\n",
       "    <tr>\n",
       "      <th>3659</th>\n",
       "      <td>e73ad07c</td>\n",
       "      <td>a5d07442-d</td>\n",
       "      <td>Home &amp; Kitchen</td>\n",
       "      <td>235.77</td>\n",
       "      <td>30</td>\n",
       "      <td>165.04</td>\n",
       "      <td>UPI</td>\n",
       "      <td>14-04-2024</td>\n",
       "    </tr>\n",
       "  </tbody>\n",
       "</table>\n",
       "<p>3660 rows × 8 columns</p>\n",
       "</div>"
      ],
      "text/plain": [
       "       User_ID  Product_ID        Category  Price (Rs.)  Discount (%)  \\\n",
       "0     337c166f  f414122f-e          Sports        36.53            15   \n",
       "1     d38a19bf  fde50f9c-5        Clothing       232.79            20   \n",
       "2     d7f5f0b0  0d96fc90-3          Sports       317.02            25   \n",
       "3     395d4994  964fc44b-d            Toys       173.19            25   \n",
       "4     a83c145c  d70e2fc6-e          Beauty       244.80            20   \n",
       "...        ...         ...             ...          ...           ...   \n",
       "3655  67abda0a  28714133-6          Beauty       486.79             0   \n",
       "3656  34ebc1a0  08838c2c-9            Toys       212.87            15   \n",
       "3657  1defd3b1  c39a4f16-6  Home & Kitchen       389.76             0   \n",
       "3658  0611293d  b4f67f96-9     Electronics       447.66            30   \n",
       "3659  e73ad07c  a5d07442-d  Home & Kitchen       235.77            30   \n",
       "\n",
       "      Final_Price(Rs.)    Payment_Method Purchase_Date  \n",
       "0                31.05       Net Banking    12-11-2024  \n",
       "1               186.23       Net Banking    09-02-2024  \n",
       "2               237.76       Credit Card    01-09-2024  \n",
       "3               129.89               UPI    01-04-2024  \n",
       "4               195.84       Net Banking    27-09-2024  \n",
       "...                ...               ...           ...  \n",
       "3655            486.79               UPI    14-05-2024  \n",
       "3656            180.94  Cash on Delivery    19-11-2024  \n",
       "3657            389.76       Net Banking    07-08-2024  \n",
       "3658            313.36               UPI    21-05-2024  \n",
       "3659            165.04               UPI    14-04-2024  \n",
       "\n",
       "[3660 rows x 8 columns]"
      ]
     },
     "execution_count": 13,
     "metadata": {},
     "output_type": "execute_result"
    }
   ],
   "source": [
    "Ecom"
   ]
  },
  {
   "cell_type": "code",
   "execution_count": 14,
   "metadata": {},
   "outputs": [],
   "source": [
    "import matplotlib.pyplot as plt"
   ]
  },
  {
   "cell_type": "code",
   "execution_count": 17,
   "metadata": {},
   "outputs": [
    {
     "name": "stdout",
     "output_type": "stream",
     "text": [
      "Requirement already satisfied: seaborn in /home/codespace/.local/lib/python3.12/site-packages (0.13.2)\n",
      "Requirement already satisfied: numpy!=1.24.0,>=1.20 in /home/codespace/.local/lib/python3.12/site-packages (from seaborn) (2.1.1)\n",
      "Requirement already satisfied: pandas>=1.2 in /home/codespace/.local/lib/python3.12/site-packages (from seaborn) (2.2.3)\n",
      "Requirement already satisfied: matplotlib!=3.6.1,>=3.4 in /home/codespace/.local/lib/python3.12/site-packages (from seaborn) (3.9.2)\n",
      "Requirement already satisfied: contourpy>=1.0.1 in /home/codespace/.local/lib/python3.12/site-packages (from matplotlib!=3.6.1,>=3.4->seaborn) (1.3.0)\n",
      "Requirement already satisfied: cycler>=0.10 in /home/codespace/.local/lib/python3.12/site-packages (from matplotlib!=3.6.1,>=3.4->seaborn) (0.12.1)\n",
      "Requirement already satisfied: fonttools>=4.22.0 in /home/codespace/.local/lib/python3.12/site-packages (from matplotlib!=3.6.1,>=3.4->seaborn) (4.54.1)\n",
      "Requirement already satisfied: kiwisolver>=1.3.1 in /home/codespace/.local/lib/python3.12/site-packages (from matplotlib!=3.6.1,>=3.4->seaborn) (1.4.7)\n",
      "Requirement already satisfied: packaging>=20.0 in /home/codespace/.local/lib/python3.12/site-packages (from matplotlib!=3.6.1,>=3.4->seaborn) (24.1)\n",
      "Requirement already satisfied: pillow>=8 in /home/codespace/.local/lib/python3.12/site-packages (from matplotlib!=3.6.1,>=3.4->seaborn) (10.4.0)\n",
      "Requirement already satisfied: pyparsing>=2.3.1 in /home/codespace/.local/lib/python3.12/site-packages (from matplotlib!=3.6.1,>=3.4->seaborn) (3.1.4)\n",
      "Requirement already satisfied: python-dateutil>=2.7 in /home/codespace/.local/lib/python3.12/site-packages (from matplotlib!=3.6.1,>=3.4->seaborn) (2.9.0.post0)\n",
      "Requirement already satisfied: pytz>=2020.1 in /home/codespace/.local/lib/python3.12/site-packages (from pandas>=1.2->seaborn) (2024.2)\n",
      "Requirement already satisfied: tzdata>=2022.7 in /home/codespace/.local/lib/python3.12/site-packages (from pandas>=1.2->seaborn) (2024.2)\n",
      "Requirement already satisfied: six>=1.5 in /home/codespace/.local/lib/python3.12/site-packages (from python-dateutil>=2.7->matplotlib!=3.6.1,>=3.4->seaborn) (1.16.0)\n",
      "\n",
      "\u001b[1m[\u001b[0m\u001b[34;49mnotice\u001b[0m\u001b[1;39;49m]\u001b[0m\u001b[39;49m A new release of pip is available: \u001b[0m\u001b[31;49m24.2\u001b[0m\u001b[39;49m -> \u001b[0m\u001b[32;49m24.3.1\u001b[0m\n",
      "\u001b[1m[\u001b[0m\u001b[34;49mnotice\u001b[0m\u001b[1;39;49m]\u001b[0m\u001b[39;49m To update, run: \u001b[0m\u001b[32;49mpip install --upgrade pip\u001b[0m\n",
      "Note: you may need to restart the kernel to use updated packages.\n"
     ]
    }
   ],
   "source": [
    "%pip install seaborn\n",
    "import seaborn as sns"
   ]
  },
  {
   "cell_type": "code",
   "execution_count": 24,
   "metadata": {},
   "outputs": [
    {
     "data": {
      "text/plain": [
       "array(['Sports', 'Clothing', 'Toys', 'Beauty', 'Books', 'Home & Kitchen',\n",
       "       'Electronics'], dtype=object)"
      ]
     },
     "execution_count": 24,
     "metadata": {},
     "output_type": "execute_result"
    }
   ],
   "source": [
    "Ecom[\"Category\"].unique()"
   ]
  },
  {
   "cell_type": "code",
   "execution_count": 25,
   "metadata": {},
   "outputs": [
    {
     "data": {
      "text/plain": [
       "array(['Sports', 'Clothing', 'Toys', 'Beauty', 'Books', 'Home & Kitchen',\n",
       "       'Electronics'], dtype=object)"
      ]
     },
     "execution_count": 25,
     "metadata": {},
     "output_type": "execute_result"
    }
   ],
   "source": [
    "Ecom.Category.unique()"
   ]
  },
  {
   "cell_type": "code",
   "execution_count": 26,
   "metadata": {},
   "outputs": [
    {
     "data": {
      "text/plain": [
       "<Axes: ylabel='count'>"
      ]
     },
     "execution_count": 26,
     "metadata": {},
     "output_type": "execute_result"
    },
    {
     "data": {
      "image/png": "[encoded data removed]",
      "text/plain": [
       "<Figure size 640x480 with 1 Axes>"
      ]
     },
     "metadata": {},
     "output_type": "display_data"
    }
   ],
   "source": [
    "Ecom.Category.value_counts().plot(kind=\"pie\")"
   ]
  },
  {
   "cell_type": "code",
   "execution_count": 32,
   "metadata": {},
   "outputs": [
    {
     "data": {
      "text/plain": [
       "(3660,)"
      ]
     },
     "execution_count": 32,
     "metadata": {},
     "output_type": "execute_result"
    }
   ],
   "source": [
    "Ecom[\"Payment_Method\"].shape"
   ]
  },
  {
   "cell_type": "code",
   "execution_count": 31,
   "metadata": {},
   "outputs": [
    {
     "data": {
      "text/plain": [
       "<StemContainer object of 3 artists>"
      ]
     },
     "execution_count": 31,
     "metadata": {},
     "output_type": "execute_result"
    },
    {
     "data": {
      "image/png": "[encoded data removed]",
      "text/plain": [
       "<Figure size 640x480 with 1 Axes>"
      ]
     },
     "metadata": {},
     "output_type": "display_data"
    }
   ],
   "source": [
    "plt.stem(Ecom.Payment_Method,Ecom[\"Discount (%)\"])"
   ]
  },
  {
   "cell_type": "code",
   "execution_count": null,
   "metadata": {},
   "outputs": [],
   "source": []
  }
 ],
 "metadata": {
  "kernelspec": {
   "display_name": "Python 3",
   "language": "python",
   "name": "python3"
  },
  "language_info": {
   "codemirror_mode": {
    "name": "ipython",
    "version": 3
   },
   "file_extension": ".py",
   "mimetype": "text/x-python",
   "name": "python",
   "nbconvert_exporter": "python",
   "pygments_lexer": "ipython3",
   "version": "3.12.1"
  }
 },
 "nbformat": 4,
 "nbformat_minor": 2
}
