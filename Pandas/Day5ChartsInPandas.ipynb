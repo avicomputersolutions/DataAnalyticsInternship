{
 "cells": [
  {
   "cell_type": "code",
   "execution_count": 1,
   "metadata": {},
   "outputs": [
    {
     "name": "stdout",
     "output_type": "stream",
     "text": [
      "Collecting kagglehub\n",
      "  Downloading kagglehub-0.3.5-py3-none-any.whl.metadata (22 kB)\n",
      "Requirement already satisfied: packaging in /home/codespace/.local/lib/python3.12/site-packages (from kagglehub) (24.1)\n",
      "Requirement already satisfied: requests in /home/codespace/.local/lib/python3.12/site-packages (from kagglehub) (2.32.3)\n",
      "Collecting tqdm (from kagglehub)\n",
      "  Downloading tqdm-4.67.1-py3-none-any.whl.metadata (57 kB)\n",
      "Requirement already satisfied: charset-normalizer<4,>=2 in /home/codespace/.local/lib/python3.12/site-packages (from requests->kagglehub) (3.3.2)\n",
      "Requirement already satisfied: idna<4,>=2.5 in /home/codespace/.local/lib/python3.12/site-packages (from requests->kagglehub) (3.10)\n",
      "Requirement already satisfied: urllib3<3,>=1.21.1 in /home/codespace/.local/lib/python3.12/site-packages (from requests->kagglehub) (2.2.3)\n",
      "Requirement already satisfied: certifi>=2017.4.17 in /home/codespace/.local/lib/python3.12/site-packages (from requests->kagglehub) (2024.8.30)\n",
      "Downloading kagglehub-0.3.5-py3-none-any.whl (44 kB)\n",
      "Downloading tqdm-4.67.1-py3-none-any.whl (78 kB)\n",
      "Installing collected packages: tqdm, kagglehub\n",
      "Successfully installed kagglehub-0.3.5 tqdm-4.67.1\n",
      "\n",
      "\u001b[1m[\u001b[0m\u001b[34;49mnotice\u001b[0m\u001b[1;39;49m]\u001b[0m\u001b[39;49m A new release of pip is available: \u001b[0m\u001b[31;49m24.2\u001b[0m\u001b[39;49m -> \u001b[0m\u001b[32;49m24.3.1\u001b[0m\n",
      "\u001b[1m[\u001b[0m\u001b[34;49mnotice\u001b[0m\u001b[1;39;49m]\u001b[0m\u001b[39;49m To update, run: \u001b[0m\u001b[32;49mpip install --upgrade pip\u001b[0m\n",
      "Note: you may need to restart the kernel to use updated packages.\n"
     ]
    },
    {
     "name": "stderr",
     "output_type": "stream",
     "text": [
      "/home/codespace/.python/current/lib/python3.12/site-packages/tqdm/auto.py:21: TqdmWarning: IProgress not found. Please update jupyter and ipywidgets. See https://ipywidgets.readthedocs.io/en/stable/user_install.html\n",
      "  from .autonotebook import tqdm as notebook_tqdm\n"
     ]
    },
    {
     "name": "stdout",
     "output_type": "stream",
     "text": [
      "Downloading from https://www.kaggle.com/api/v1/datasets/download/steve1215rogg/e-commerce-dataset?dataset_version_number=1...\n"
     ]
    },
    {
     "name": "stderr",
     "output_type": "stream",
     "text": [
      "100%|██████████| 89.8k/89.8k [00:00<00:00, 178kB/s]"
     ]
    },
    {
     "name": "stdout",
     "output_type": "stream",
     "text": [
      "Extracting files...\n",
      "Path to dataset files: /home/codespace/.cache/kagglehub/datasets/steve1215rogg/e-commerce-dataset/versions/1\n"
     ]
    },
    {
     "name": "stderr",
     "output_type": "stream",
     "text": [
      "\n"
     ]
    }
   ],
   "source": [
    "%pip install kagglehub\n",
    "import kagglehub\n",
    "\n",
    "# Download latest version\n",
    "path = kagglehub.dataset_download(\"steve1215rogg/e-commerce-dataset\")\n",
    "\n",
    "print(\"Path to dataset files:\", path)"
   ]
  },
  {
   "cell_type": "code",
   "execution_count": 2,
   "metadata": {},
   "outputs": [
    {
     "data": {
      "text/plain": [
       "'/home/codespace/.cache/kagglehub/datasets/steve1215rogg/e-commerce-dataset/versions/1'"
      ]
     },
     "execution_count": 2,
     "metadata": {},
     "output_type": "execute_result"
    }
   ],
   "source": [
    "path"
   ]
  },
  {
   "cell_type": "code",
   "execution_count": 4,
   "metadata": {},
   "outputs": [],
   "source": [
    "import pandas as pd"
   ]
  },
  {
   "cell_type": "code",
   "execution_count": 5,
   "metadata": {},
   "outputs": [],
   "source": [
    "empoyee = pd.read_csv(path + \"/ecommerce_dataset_updated.csv\")"
   ]
  },
  {
   "cell_type": "code",
   "execution_count": 6,
   "metadata": {},
   "outputs": [
    {
     "data": {
      "text/html": [
       "<div>\n",
       "<style scoped>\n",
       "    .dataframe tbody tr th:only-of-type {\n",
       "        vertical-align: middle;\n",
       "    }\n",
       "\n",
       "    .dataframe tbody tr th {\n",
       "        vertical-align: top;\n",
       "    }\n",
       "\n",
       "    .dataframe thead th {\n",
       "        text-align: right;\n",
       "    }\n",
       "</style>\n",
       "<table border=\"1\" class=\"dataframe\">\n",
       "  <thead>\n",
       "    <tr style=\"text-align: right;\">\n",
       "      <th></th>\n",
       "      <th>User_ID</th>\n",
       "      <th>Product_ID</th>\n",
       "      <th>Category</th>\n",
       "      <th>Price (Rs.)</th>\n",
       "      <th>Discount (%)</th>\n",
       "      <th>Final_Price(Rs.)</th>\n",
       "      <th>Payment_Method</th>\n",
       "      <th>Purchase_Date</th>\n",
       "    </tr>\n",
       "  </thead>\n",
       "  <tbody>\n",
       "    <tr>\n",
       "      <th>0</th>\n",
       "      <td>337c166f</td>\n",
       "      <td>f414122f-e</td>\n",
       "      <td>Sports</td>\n",
       "      <td>36.53</td>\n",
       "      <td>15</td>\n",
       "      <td>31.05</td>\n",
       "      <td>Net Banking</td>\n",
       "      <td>12-11-2024</td>\n",
       "    </tr>\n",
       "    <tr>\n",
       "      <th>1</th>\n",
       "      <td>d38a19bf</td>\n",
       "      <td>fde50f9c-5</td>\n",
       "      <td>Clothing</td>\n",
       "      <td>232.79</td>\n",
       "      <td>20</td>\n",
       "      <td>186.23</td>\n",
       "      <td>Net Banking</td>\n",
       "      <td>09-02-2024</td>\n",
       "    </tr>\n",
       "    <tr>\n",
       "      <th>2</th>\n",
       "      <td>d7f5f0b0</td>\n",
       "      <td>0d96fc90-3</td>\n",
       "      <td>Sports</td>\n",
       "      <td>317.02</td>\n",
       "      <td>25</td>\n",
       "      <td>237.76</td>\n",
       "      <td>Credit Card</td>\n",
       "      <td>01-09-2024</td>\n",
       "    </tr>\n",
       "    <tr>\n",
       "      <th>3</th>\n",
       "      <td>395d4994</td>\n",
       "      <td>964fc44b-d</td>\n",
       "      <td>Toys</td>\n",
       "      <td>173.19</td>\n",
       "      <td>25</td>\n",
       "      <td>129.89</td>\n",
       "      <td>UPI</td>\n",
       "      <td>01-04-2024</td>\n",
       "    </tr>\n",
       "    <tr>\n",
       "      <th>4</th>\n",
       "      <td>a83c145c</td>\n",
       "      <td>d70e2fc6-e</td>\n",
       "      <td>Beauty</td>\n",
       "      <td>244.80</td>\n",
       "      <td>20</td>\n",
       "      <td>195.84</td>\n",
       "      <td>Net Banking</td>\n",
       "      <td>27-09-2024</td>\n",
       "    </tr>\n",
       "    <tr>\n",
       "      <th>...</th>\n",
       "      <td>...</td>\n",
       "      <td>...</td>\n",
       "      <td>...</td>\n",
       "      <td>...</td>\n",
       "      <td>...</td>\n",
       "      <td>...</td>\n",
       "      <td>...</td>\n",
       "      <td>...</td>\n",
       "    </tr>\n",
       "    <tr>\n",
       "      <th>3655</th>\n",
       "      <td>67abda0a</td>\n",
       "      <td>28714133-6</td>\n",
       "      <td>Beauty</td>\n",
       "      <td>486.79</td>\n",
       "      <td>0</td>\n",
       "      <td>486.79</td>\n",
       "      <td>UPI</td>\n",
       "      <td>14-05-2024</td>\n",
       "    </tr>\n",
       "    <tr>\n",
       "      <th>3656</th>\n",
       "      <td>34ebc1a0</td>\n",
       "      <td>08838c2c-9</td>\n",
       "      <td>Toys</td>\n",
       "      <td>212.87</td>\n",
       "      <td>15</td>\n",
       "      <td>180.94</td>\n",
       "      <td>Cash on Delivery</td>\n",
       "      <td>19-11-2024</td>\n",
       "    </tr>\n",
       "    <tr>\n",
       "      <th>3657</th>\n",
       "      <td>1defd3b1</td>\n",
       "      <td>c39a4f16-6</td>\n",
       "      <td>Home &amp; Kitchen</td>\n",
       "      <td>389.76</td>\n",
       "      <td>0</td>\n",
       "      <td>389.76</td>\n",
       "      <td>Net Banking</td>\n",
       "      <td>07-08-2024</td>\n",
       "    </tr>\n",
       "    <tr>\n",
       "      <th>3658</th>\n",
       "      <td>0611293d</td>\n",
       "      <td>b4f67f96-9</td>\n",
       "      <td>Electronics</td>\n",
       "      <td>447.66</td>\n",
       "      <td>30</td>\n",
       "      <td>313.36</td>\n",
       "      <td>UPI</td>\n",
       "      <td>21-05-2024</td>\n",
       "    </tr>\n",
       "    <tr>\n",
       "      <th>3659</th>\n",
       "      <td>e73ad07c</td>\n",
       "      <td>a5d07442-d</td>\n",
       "      <td>Home &amp; Kitchen</td>\n",
       "      <td>235.77</td>\n",
       "      <td>30</td>\n",
       "      <td>165.04</td>\n",
       "      <td>UPI</td>\n",
       "      <td>14-04-2024</td>\n",
       "    </tr>\n",
       "  </tbody>\n",
       "</table>\n",
       "<p>3660 rows × 8 columns</p>\n",
       "</div>"
      ],
      "text/plain": [
       "       User_ID  Product_ID        Category  Price (Rs.)  Discount (%)  \\\n",
       "0     337c166f  f414122f-e          Sports        36.53            15   \n",
       "1     d38a19bf  fde50f9c-5        Clothing       232.79            20   \n",
       "2     d7f5f0b0  0d96fc90-3          Sports       317.02            25   \n",
       "3     395d4994  964fc44b-d            Toys       173.19            25   \n",
       "4     a83c145c  d70e2fc6-e          Beauty       244.80            20   \n",
       "...        ...         ...             ...          ...           ...   \n",
       "3655  67abda0a  28714133-6          Beauty       486.79             0   \n",
       "3656  34ebc1a0  08838c2c-9            Toys       212.87            15   \n",
       "3657  1defd3b1  c39a4f16-6  Home & Kitchen       389.76             0   \n",
       "3658  0611293d  b4f67f96-9     Electronics       447.66            30   \n",
       "3659  e73ad07c  a5d07442-d  Home & Kitchen       235.77            30   \n",
       "\n",
       "      Final_Price(Rs.)    Payment_Method Purchase_Date  \n",
       "0                31.05       Net Banking    12-11-2024  \n",
       "1               186.23       Net Banking    09-02-2024  \n",
       "2               237.76       Credit Card    01-09-2024  \n",
       "3               129.89               UPI    01-04-2024  \n",
       "4               195.84       Net Banking    27-09-2024  \n",
       "...                ...               ...           ...  \n",
       "3655            486.79               UPI    14-05-2024  \n",
       "3656            180.94  Cash on Delivery    19-11-2024  \n",
       "3657            389.76       Net Banking    07-08-2024  \n",
       "3658            313.36               UPI    21-05-2024  \n",
       "3659            165.04               UPI    14-04-2024  \n",
       "\n",
       "[3660 rows x 8 columns]"
      ]
     },
     "execution_count": 6,
     "metadata": {},
     "output_type": "execute_result"
    }
   ],
   "source": [
    "empoyee"
   ]
  },
  {
   "cell_type": "code",
   "execution_count": 8,
   "metadata": {},
   "outputs": [
    {
     "name": "stdout",
     "output_type": "stream",
     "text": [
      "Requirement already satisfied: openpyxl in /home/codespace/.python/current/lib/python3.12/site-packages (3.1.5)\n",
      "Requirement already satisfied: et-xmlfile in /home/codespace/.python/current/lib/python3.12/site-packages (from openpyxl) (2.0.0)\n",
      "\n",
      "\u001b[1m[\u001b[0m\u001b[34;49mnotice\u001b[0m\u001b[1;39;49m]\u001b[0m\u001b[39;49m A new release of pip is available: \u001b[0m\u001b[31;49m24.2\u001b[0m\u001b[39;49m -> \u001b[0m\u001b[32;49m24.3.1\u001b[0m\n",
      "\u001b[1m[\u001b[0m\u001b[34;49mnotice\u001b[0m\u001b[1;39;49m]\u001b[0m\u001b[39;49m To update, run: \u001b[0m\u001b[32;49mpip install --upgrade pip\u001b[0m\n",
      "Note: you may need to restart the kernel to use updated packages.\n"
     ]
    }
   ],
   "source": [
    "%pip install openpyxl\n",
    "empoyee.to_excel(\"Ecommerce.xlsx\",index=False)"
   ]
  },
  {
   "cell_type": "code",
   "execution_count": 9,
   "metadata": {},
   "outputs": [
    {
     "name": "stdout",
     "output_type": "stream",
     "text": [
      "Downloading from https://www.kaggle.com/api/v1/datasets/download/mohitkumar282/used-car-dataset?dataset_version_number=1...\n"
     ]
    },
    {
     "name": "stderr",
     "output_type": "stream",
     "text": [
      "100%|██████████| 230k/230k [00:00<00:00, 271kB/s]"
     ]
    },
    {
     "name": "stdout",
     "output_type": "stream",
     "text": [
      "Extracting files...\n",
      "Path to dataset files: /home/codespace/.cache/kagglehub/datasets/mohitkumar282/used-car-dataset/versions/1\n"
     ]
    },
    {
     "name": "stderr",
     "output_type": "stream",
     "text": [
      "\n"
     ]
    }
   ],
   "source": [
    "%pip install kagglehub\n",
    "import kagglehub\n",
    "\n",
    "# Download latest version\n",
    "path = kagglehub.dataset_download(\"mohitkumar282/used-car-dataset\")\n",
    "\n",
    "print(\"Path to dataset files:\", path)"
   ]
  },
  {
   "cell_type": "code",
   "execution_count": 10,
   "metadata": {},
   "outputs": [],
   "source": [
    "import pandas as pd"
   ]
  },
  {
   "cell_type": "code",
   "execution_count": 11,
   "metadata": {},
   "outputs": [],
   "source": [
    "Used_car=pd.read_csv(path + \"/used_car_dataset.csv\")"
   ]
  },
  {
   "cell_type": "code",
   "execution_count": 12,
   "metadata": {},
   "outputs": [
    {
     "data": {
      "text/html": [
       "<div>\n",
       "<style scoped>\n",
       "    .dataframe tbody tr th:only-of-type {\n",
       "        vertical-align: middle;\n",
       "    }\n",
       "\n",
       "    .dataframe tbody tr th {\n",
       "        vertical-align: top;\n",
       "    }\n",
       "\n",
       "    .dataframe thead th {\n",
       "        text-align: right;\n",
       "    }\n",
       "</style>\n",
       "<table border=\"1\" class=\"dataframe\">\n",
       "  <thead>\n",
       "    <tr style=\"text-align: right;\">\n",
       "      <th></th>\n",
       "      <th>Brand</th>\n",
       "      <th>model</th>\n",
       "      <th>Year</th>\n",
       "      <th>Age</th>\n",
       "      <th>kmDriven</th>\n",
       "      <th>Transmission</th>\n",
       "      <th>Owner</th>\n",
       "      <th>FuelType</th>\n",
       "      <th>PostedDate</th>\n",
       "      <th>AdditionInfo</th>\n",
       "      <th>AskPrice</th>\n",
       "    </tr>\n",
       "  </thead>\n",
       "  <tbody>\n",
       "    <tr>\n",
       "      <th>0</th>\n",
       "      <td>Honda</td>\n",
       "      <td>City</td>\n",
       "      <td>2001</td>\n",
       "      <td>23</td>\n",
       "      <td>98,000 km</td>\n",
       "      <td>Manual</td>\n",
       "      <td>second</td>\n",
       "      <td>Petrol</td>\n",
       "      <td>Nov-24</td>\n",
       "      <td>Honda City v teck in mint condition, valid gen...</td>\n",
       "      <td>₹ 1,95,000</td>\n",
       "    </tr>\n",
       "    <tr>\n",
       "      <th>1</th>\n",
       "      <td>Toyota</td>\n",
       "      <td>Innova</td>\n",
       "      <td>2009</td>\n",
       "      <td>15</td>\n",
       "      <td>190000.0 km</td>\n",
       "      <td>Manual</td>\n",
       "      <td>second</td>\n",
       "      <td>Diesel</td>\n",
       "      <td>Jul-24</td>\n",
       "      <td>Toyota Innova 2.5 G (Diesel) 7 Seater, 2009, D...</td>\n",
       "      <td>₹ 3,75,000</td>\n",
       "    </tr>\n",
       "    <tr>\n",
       "      <th>2</th>\n",
       "      <td>Volkswagen</td>\n",
       "      <td>VentoTest</td>\n",
       "      <td>2010</td>\n",
       "      <td>14</td>\n",
       "      <td>77,246 km</td>\n",
       "      <td>Manual</td>\n",
       "      <td>first</td>\n",
       "      <td>Diesel</td>\n",
       "      <td>Nov-24</td>\n",
       "      <td>Volkswagen Vento 2010-2013 Diesel Breeze, 2010...</td>\n",
       "      <td>₹ 1,84,999</td>\n",
       "    </tr>\n",
       "    <tr>\n",
       "      <th>3</th>\n",
       "      <td>Maruti Suzuki</td>\n",
       "      <td>Swift</td>\n",
       "      <td>2017</td>\n",
       "      <td>7</td>\n",
       "      <td>83,500 km</td>\n",
       "      <td>Manual</td>\n",
       "      <td>second</td>\n",
       "      <td>Diesel</td>\n",
       "      <td>Nov-24</td>\n",
       "      <td>Maruti Suzuki Swift 2017 Diesel Good Condition</td>\n",
       "      <td>₹ 5,65,000</td>\n",
       "    </tr>\n",
       "    <tr>\n",
       "      <th>4</th>\n",
       "      <td>Maruti Suzuki</td>\n",
       "      <td>Baleno</td>\n",
       "      <td>2019</td>\n",
       "      <td>5</td>\n",
       "      <td>45,000 km</td>\n",
       "      <td>Automatic</td>\n",
       "      <td>first</td>\n",
       "      <td>Petrol</td>\n",
       "      <td>Nov-24</td>\n",
       "      <td>Maruti Suzuki Baleno Alpha CVT, 2019, Petrol</td>\n",
       "      <td>₹ 6,85,000</td>\n",
       "    </tr>\n",
       "    <tr>\n",
       "      <th>...</th>\n",
       "      <td>...</td>\n",
       "      <td>...</td>\n",
       "      <td>...</td>\n",
       "      <td>...</td>\n",
       "      <td>...</td>\n",
       "      <td>...</td>\n",
       "      <td>...</td>\n",
       "      <td>...</td>\n",
       "      <td>...</td>\n",
       "      <td>...</td>\n",
       "      <td>...</td>\n",
       "    </tr>\n",
       "    <tr>\n",
       "      <th>9577</th>\n",
       "      <td>Skoda</td>\n",
       "      <td>Octavia</td>\n",
       "      <td>2014</td>\n",
       "      <td>10</td>\n",
       "      <td>105,904 km</td>\n",
       "      <td>Automatic</td>\n",
       "      <td>second</td>\n",
       "      <td>Diesel</td>\n",
       "      <td>Oct-24</td>\n",
       "      <td>Skoda Octavia 1.9 Elegance TDI, 2014, Diesel</td>\n",
       "      <td>₹ 10,40,000</td>\n",
       "    </tr>\n",
       "    <tr>\n",
       "      <th>9578</th>\n",
       "      <td>Maruti Suzuki</td>\n",
       "      <td>Alto-800</td>\n",
       "      <td>2020</td>\n",
       "      <td>4</td>\n",
       "      <td>55,000 km</td>\n",
       "      <td>Manual</td>\n",
       "      <td>first</td>\n",
       "      <td>Hybrid/CNG</td>\n",
       "      <td>Nov-24</td>\n",
       "      <td>Maruti Suzuki Alto 800 CNG LXI Optional, 2020,...</td>\n",
       "      <td>₹ 3,75,000</td>\n",
       "    </tr>\n",
       "    <tr>\n",
       "      <th>9579</th>\n",
       "      <td>Maruti Suzuki</td>\n",
       "      <td>Ritz</td>\n",
       "      <td>2013</td>\n",
       "      <td>11</td>\n",
       "      <td>92,000 km</td>\n",
       "      <td>Manual</td>\n",
       "      <td>first</td>\n",
       "      <td>Diesel</td>\n",
       "      <td>Nov-24</td>\n",
       "      <td>Maruti Suzuki Ritz VDi, 2013, Diesel</td>\n",
       "      <td>₹ 4,15,000</td>\n",
       "    </tr>\n",
       "    <tr>\n",
       "      <th>9580</th>\n",
       "      <td>Hyundai</td>\n",
       "      <td>Verna</td>\n",
       "      <td>2019</td>\n",
       "      <td>5</td>\n",
       "      <td>72,000 km</td>\n",
       "      <td>Automatic</td>\n",
       "      <td>first</td>\n",
       "      <td>Petrol</td>\n",
       "      <td>Oct-24</td>\n",
       "      <td>Hyundai Verna VTVT 1.6 AT SX Option, 2019, Petrol</td>\n",
       "      <td>₹ 8,55,000</td>\n",
       "    </tr>\n",
       "    <tr>\n",
       "      <th>9581</th>\n",
       "      <td>Hyundai</td>\n",
       "      <td>New i20</td>\n",
       "      <td>2021</td>\n",
       "      <td>3</td>\n",
       "      <td>83,228 km</td>\n",
       "      <td>Manual</td>\n",
       "      <td>second</td>\n",
       "      <td>Petrol</td>\n",
       "      <td>Nov-24</td>\n",
       "      <td>Hyundai New i20 1.2 Asta IVT, 2021, Petrol</td>\n",
       "      <td>₹ 6,99,000</td>\n",
       "    </tr>\n",
       "  </tbody>\n",
       "</table>\n",
       "<p>9582 rows × 11 columns</p>\n",
       "</div>"
      ],
      "text/plain": [
       "              Brand      model  Year  Age     kmDriven Transmission   Owner  \\\n",
       "0             Honda       City  2001   23    98,000 km       Manual  second   \n",
       "1            Toyota     Innova  2009   15  190000.0 km       Manual  second   \n",
       "2        Volkswagen  VentoTest  2010   14    77,246 km       Manual   first   \n",
       "3     Maruti Suzuki      Swift  2017    7    83,500 km       Manual  second   \n",
       "4     Maruti Suzuki     Baleno  2019    5    45,000 km    Automatic   first   \n",
       "...             ...        ...   ...  ...          ...          ...     ...   \n",
       "9577          Skoda    Octavia  2014   10   105,904 km    Automatic  second   \n",
       "9578  Maruti Suzuki   Alto-800  2020    4    55,000 km       Manual   first   \n",
       "9579  Maruti Suzuki       Ritz  2013   11    92,000 km       Manual   first   \n",
       "9580        Hyundai      Verna  2019    5    72,000 km    Automatic   first   \n",
       "9581        Hyundai    New i20  2021    3    83,228 km       Manual  second   \n",
       "\n",
       "        FuelType PostedDate  \\\n",
       "0         Petrol     Nov-24   \n",
       "1         Diesel     Jul-24   \n",
       "2         Diesel     Nov-24   \n",
       "3         Diesel     Nov-24   \n",
       "4         Petrol     Nov-24   \n",
       "...          ...        ...   \n",
       "9577      Diesel     Oct-24   \n",
       "9578  Hybrid/CNG     Nov-24   \n",
       "9579      Diesel     Nov-24   \n",
       "9580      Petrol     Oct-24   \n",
       "9581      Petrol     Nov-24   \n",
       "\n",
       "                                           AdditionInfo     AskPrice  \n",
       "0     Honda City v teck in mint condition, valid gen...   ₹ 1,95,000  \n",
       "1     Toyota Innova 2.5 G (Diesel) 7 Seater, 2009, D...   ₹ 3,75,000  \n",
       "2     Volkswagen Vento 2010-2013 Diesel Breeze, 2010...   ₹ 1,84,999  \n",
       "3        Maruti Suzuki Swift 2017 Diesel Good Condition   ₹ 5,65,000  \n",
       "4          Maruti Suzuki Baleno Alpha CVT, 2019, Petrol   ₹ 6,85,000  \n",
       "...                                                 ...          ...  \n",
       "9577       Skoda Octavia 1.9 Elegance TDI, 2014, Diesel  ₹ 10,40,000  \n",
       "9578  Maruti Suzuki Alto 800 CNG LXI Optional, 2020,...   ₹ 3,75,000  \n",
       "9579               Maruti Suzuki Ritz VDi, 2013, Diesel   ₹ 4,15,000  \n",
       "9580  Hyundai Verna VTVT 1.6 AT SX Option, 2019, Petrol   ₹ 8,55,000  \n",
       "9581         Hyundai New i20 1.2 Asta IVT, 2021, Petrol   ₹ 6,99,000  \n",
       "\n",
       "[9582 rows x 11 columns]"
      ]
     },
     "execution_count": 12,
     "metadata": {},
     "output_type": "execute_result"
    }
   ],
   "source": [
    "Used_car"
   ]
  },
  {
   "cell_type": "code",
   "execution_count": 13,
   "metadata": {},
   "outputs": [
    {
     "name": "stdout",
     "output_type": "stream",
     "text": [
      "Requirement already satisfied: openpyxl in /home/codespace/.python/current/lib/python3.12/site-packages (3.1.5)\n",
      "Requirement already satisfied: et-xmlfile in /home/codespace/.python/current/lib/python3.12/site-packages (from openpyxl) (2.0.0)\n",
      "\n",
      "\u001b[1m[\u001b[0m\u001b[34;49mnotice\u001b[0m\u001b[1;39;49m]\u001b[0m\u001b[39;49m A new release of pip is available: \u001b[0m\u001b[31;49m24.2\u001b[0m\u001b[39;49m -> \u001b[0m\u001b[32;49m24.3.1\u001b[0m\n",
      "\u001b[1m[\u001b[0m\u001b[34;49mnotice\u001b[0m\u001b[1;39;49m]\u001b[0m\u001b[39;49m To update, run: \u001b[0m\u001b[32;49mpip install --upgrade pip\u001b[0m\n",
      "Note: you may need to restart the kernel to use updated packages.\n"
     ]
    }
   ],
   "source": [
    "%pip install openpyxl\n",
    "Used_car.to_excel(\"Used_Car.xlsx\",index=False)"
   ]
  },
  {
   "cell_type": "code",
   "execution_count": null,
   "metadata": {},
   "outputs": [],
   "source": []
  }
 ],
 "metadata": {
  "kernelspec": {
   "display_name": "Python 3",
   "language": "python",
   "name": "python3"
  },
  "language_info": {
   "codemirror_mode": {
    "name": "ipython",
    "version": 3
   },
   "file_extension": ".py",
   "mimetype": "text/x-python",
   "name": "python",
   "nbconvert_exporter": "python",
   "pygments_lexer": "ipython3",
   "version": "3.12.1"
  }
 },
 "nbformat": 4,
 "nbformat_minor": 2
}
