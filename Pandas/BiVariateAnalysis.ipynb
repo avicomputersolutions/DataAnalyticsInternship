{
 "cells": [
  {
   "cell_type": "code",
   "execution_count": 1,
   "metadata": {},
   "outputs": [],
   "source": [
    "import pandas as pd"
   ]
  },
  {
   "cell_type": "code",
   "execution_count": 2,
   "metadata": {},
   "outputs": [],
   "source": [
    "Used_car=pd.read_excel(\"Used_Car.xlsx\")"
   ]
  },
  {
   "cell_type": "code",
   "execution_count": 3,
   "metadata": {},
   "outputs": [
    {
     "data": {
      "text/plain": [
       "Index(['Brand', 'model', 'Year', 'Age', 'kmDriven', 'Transmission', 'Owner',\n",
       "       'FuelType', 'PostedDate', 'AdditionInfo', 'AskPrice'],\n",
       "      dtype='object')"
      ]
     },
     "execution_count": 3,
     "metadata": {},
     "output_type": "execute_result"
    }
   ],
   "source": [
    "Used_car.columns"
   ]
  },
  {
   "cell_type": "code",
   "execution_count": 10,
   "metadata": {},
   "outputs": [
    {
     "name": "stdout",
     "output_type": "stream",
     "text": [
      "<class 'pandas.core.frame.DataFrame'>\n",
      "RangeIndex: 9582 entries, 0 to 9581\n",
      "Data columns (total 11 columns):\n",
      " #   Column        Non-Null Count  Dtype \n",
      "---  ------        --------------  ----- \n",
      " 0   Brand         9582 non-null   object\n",
      " 1   model         9582 non-null   object\n",
      " 2   Year          9582 non-null   int64 \n",
      " 3   Age           9582 non-null   int64 \n",
      " 4   kmDriven      9535 non-null   object\n",
      " 5   Transmission  9582 non-null   object\n",
      " 6   Owner         9582 non-null   object\n",
      " 7   FuelType      9582 non-null   object\n",
      " 8   PostedDate    9582 non-null   object\n",
      " 9   AdditionInfo  9582 non-null   object\n",
      " 10  AskPrice      9582 non-null   object\n",
      "dtypes: int64(2), object(9)\n",
      "memory usage: 823.6+ KB\n"
     ]
    }
   ],
   "source": [
    "Used_car.info()"
   ]
  },
  {
   "cell_type": "code",
   "execution_count": 11,
   "metadata": {},
   "outputs": [
    {
     "data": {
      "text/plain": [
       "0         98,000 km\n",
       "1       190000.0 km\n",
       "2         77,246 km\n",
       "3         83,500 km\n",
       "4         45,000 km\n",
       "           ...     \n",
       "9577     105,904 km\n",
       "9578      55,000 km\n",
       "9579      92,000 km\n",
       "9580      72,000 km\n",
       "9581      83,228 km\n",
       "Name: kmDriven, Length: 9582, dtype: object"
      ]
     },
     "execution_count": 11,
     "metadata": {},
     "output_type": "execute_result"
    }
   ],
   "source": [
    "Used_car[\"kmDriven\"]"
   ]
  },
  {
   "cell_type": "code",
   "execution_count": 12,
   "metadata": {},
   "outputs": [
    {
     "data": {
      "text/plain": [
       "dtype('O')"
      ]
     },
     "execution_count": 12,
     "metadata": {},
     "output_type": "execute_result"
    }
   ],
   "source": [
    "Used_car[\"kmDriven\"].dtype"
   ]
  },
  {
   "cell_type": "code",
   "execution_count": 13,
   "metadata": {},
   "outputs": [],
   "source": [
    "Used_car[\"kmDriven\"]=Used_car[\"kmDriven\"].str.replace(\"km\", \"\")"
   ]
  },
  {
   "cell_type": "code",
   "execution_count": 14,
   "metadata": {},
   "outputs": [
    {
     "data": {
      "text/plain": [
       "0         98,000 \n",
       "1       190000.0 \n",
       "2         77,246 \n",
       "3         83,500 \n",
       "4         45,000 \n",
       "          ...    \n",
       "9577     105,904 \n",
       "9578      55,000 \n",
       "9579      92,000 \n",
       "9580      72,000 \n",
       "9581      83,228 \n",
       "Name: kmDriven, Length: 9582, dtype: object"
      ]
     },
     "execution_count": 14,
     "metadata": {},
     "output_type": "execute_result"
    }
   ],
   "source": [
    "Used_car[\"kmDriven\"]"
   ]
  },
  {
   "cell_type": "code",
   "execution_count": 15,
   "metadata": {},
   "outputs": [],
   "source": [
    "Used_car[\"kmDriven\"]=Used_car[\"kmDriven\"].str.replace(\",\" , \"\")"
   ]
  },
  {
   "cell_type": "code",
   "execution_count": 16,
   "metadata": {},
   "outputs": [
    {
     "data": {
      "text/plain": [
       "0          98000 \n",
       "1       190000.0 \n",
       "2          77246 \n",
       "3          83500 \n",
       "4          45000 \n",
       "          ...    \n",
       "9577      105904 \n",
       "9578       55000 \n",
       "9579       92000 \n",
       "9580       72000 \n",
       "9581       83228 \n",
       "Name: kmDriven, Length: 9582, dtype: object"
      ]
     },
     "execution_count": 16,
     "metadata": {},
     "output_type": "execute_result"
    }
   ],
   "source": [
    "Used_car[\"kmDriven\"]"
   ]
  },
  {
   "cell_type": "code",
   "execution_count": 18,
   "metadata": {},
   "outputs": [],
   "source": [
    "Used_car[\"kmDriven\"]=Used_car[\"kmDriven\"].str.strip()"
   ]
  },
  {
   "cell_type": "code",
   "execution_count": 20,
   "metadata": {},
   "outputs": [],
   "source": [
    "Used_car[\"kmDriven\"]=Used_car[\"kmDriven\"].astype(\"float64\")"
   ]
  },
  {
   "cell_type": "code",
   "execution_count": 21,
   "metadata": {},
   "outputs": [
    {
     "data": {
      "text/plain": [
       "0        98000.0\n",
       "1       190000.0\n",
       "2        77246.0\n",
       "3        83500.0\n",
       "4        45000.0\n",
       "          ...   \n",
       "9577    105904.0\n",
       "9578     55000.0\n",
       "9579     92000.0\n",
       "9580     72000.0\n",
       "9581     83228.0\n",
       "Name: kmDriven, Length: 9582, dtype: float64"
      ]
     },
     "execution_count": 21,
     "metadata": {},
     "output_type": "execute_result"
    }
   ],
   "source": [
    "Used_car[\"kmDriven\"]"
   ]
  },
  {
   "cell_type": "code",
   "execution_count": 4,
   "metadata": {},
   "outputs": [],
   "source": [
    "import numpy as np\n",
    "import matplotlib.pyplot as plt\n"
   ]
  },
  {
   "cell_type": "code",
   "execution_count": 35,
   "metadata": {},
   "outputs": [
    {
     "data": {
      "image/png": "[encoded data removed]",
      "text/plain": [
       "<Figure size 640x480 with 1 Axes>"
      ]
     },
     "metadata": {},
     "output_type": "display_data"
    }
   ],
   "source": [
    "#Scatter Graph\n",
    "plt.scatter(Used_car[\"Age\"],Used_car[\"kmDriven\"],s=50,c=\"pink\",marker=\"s\")\n",
    "plt.xlabel(\"Age\")\n",
    "plt.ylabel(\"kmDriven in lakhs\")\n",
    "plt.title(\"Age of car VS KMDriven\")\n",
    "plt.show()"
   ]
  },
  {
   "cell_type": "markdown",
   "metadata": {},
   "source": [
    "Obervation: From this Age and KMDriven Chart we can calculate that age and KMDriven chart is show that this company has less driven cars than other companies."
   ]
  },
  {
   "cell_type": "code",
   "execution_count": null,
   "metadata": {},
   "outputs": [],
   "source": []
  }
 ],
 "metadata": {
  "kernelspec": {
   "display_name": "Python 3",
   "language": "python",
   "name": "python3"
  },
  "language_info": {
   "codemirror_mode": {
    "name": "ipython",
    "version": 3
   },
   "file_extension": ".py",
   "mimetype": "text/x-python",
   "name": "python",
   "nbconvert_exporter": "python",
   "pygments_lexer": "ipython3",
   "version": "3.12.1"
  }
 },
 "nbformat": 4,
 "nbformat_minor": 2
}
